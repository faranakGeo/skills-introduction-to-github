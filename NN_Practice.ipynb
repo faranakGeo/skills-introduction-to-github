{
  "cells": [
    {
      "cell_type": "markdown",
      "metadata": {
        "id": "view-in-github",
        "colab_type": "text"
      },
      "source": [
        "<a href=\"https://colab.research.google.com/github/faranakGeo/skills-introduction-to-github/blob/main/NN_Practice.ipynb\" target=\"_parent\"><img src=\"https://colab.research.google.com/assets/colab-badge.svg\" alt=\"Open In Colab\"/></a>"
      ]
    },
    {
      "cell_type": "markdown",
      "id": "978df428",
      "metadata": {
        "id": "978df428"
      },
      "source": [
        "\n",
        "# Rock Physics Regression: Predicting $V_p$ from Porosity, Depth, Fluid, and Lithology\n",
        "\n",
        "**Objective:** Practice neural network training concepts (train/val/test split, loss/metrics, activation functions, regularization, optimizers, early stopping) on a **rock physics** regression task.\n",
        "\n",
        "We generate synthetic data using a simplified **Wyllie time-average** style relation (on slowness) with realistic modifiers for depth/compaction, fluid type (brine vs gas), and lithology (sandstone, limestone, shale).\n",
        "\n",
        "**Target:** Compressional-wave velocity $V_p$ (km/s).  \n",
        "**Features:** porosity $\\phi$ (fraction), depth (km), lithology (one-hot), fluid (one-hot).\n"
      ]
    },
    {
      "cell_type": "code",
      "execution_count": 3,
      "id": "5b887101",
      "metadata": {
        "colab": {
          "base_uri": "https://localhost:8080/"
        },
        "id": "5b887101",
        "outputId": "321f1bcc-32ad-44d3-f113-4bee34248bb6"
      },
      "outputs": [
        {
          "output_type": "execute_result",
          "data": {
            "text/plain": [
              "device(type='cuda')"
            ]
          },
          "metadata": {},
          "execution_count": 3
        }
      ],
      "source": [
        "\n",
        "import math, random\n",
        "import numpy as np\n",
        "import torch\n",
        "from torch import nn\n",
        "from torch.utils.data import DataLoader, TensorDataset, random_split\n",
        "import matplotlib.pyplot as plt\n",
        "\n",
        "seed = 123\n",
        "random.seed(seed)\n",
        "np.random.seed(seed)\n",
        "torch.manual_seed(seed)\n",
        "\n",
        "device = torch.device(\"cuda\" if torch.cuda.is_available() else \"cpu\")\n",
        "device\n"
      ]
    },
    {
      "cell_type": "markdown",
      "id": "d656e8a3",
      "metadata": {
        "id": "d656e8a3"
      },
      "source": [
        "\n",
        "## 1) Synthetic Data Generation\n",
        "\n",
        "We use a Wyllie-style time-average for slowness:  \n",
        "\\[\n",
        "s = \\frac{\\phi_\\mathrm{eff}}{V_f} + \\frac{1-\\phi_\\mathrm{eff}}{V_m}, \\quad V_p = \\frac{1}{s}\n",
        "\\]\n",
        "\n",
        "- Effective porosity: $\\phi_\\mathrm{eff} = \\phi \\exp(-k\\,\\text{depth})$ (compaction; $k \\approx 0.2$ / km)  \n",
        "- Matrix velocity $V_m$ depends on lithology: sandstone (5.5), limestone (6.0), shale (4.0) km/s  \n",
        "- Fluid velocity $V_f$ depends on fluid: brine (1.5), gas (0.35) km/s  \n",
        "- Depth trend: add a small linear increase with depth to mimic pressure effects  \n",
        "- Add small Gaussian noise\n"
      ]
    },
    {
      "cell_type": "code",
      "execution_count": 4,
      "id": "5313ab30",
      "metadata": {
        "colab": {
          "base_uri": "https://localhost:8080/"
        },
        "id": "5313ab30",
        "outputId": "49242ad7-4861-454f-86fc-a9ceceb2716a"
      },
      "outputs": [
        {
          "output_type": "stream",
          "name": "stdout",
          "text": [
            "X shape: (4000, 7)  y shape: (4000, 1)  example: [0.24983484 0.9298041  1.         0.         0.         0.\n",
            " 1.        ] [1.5108659]\n"
          ]
        }
      ],
      "source": [
        "\n",
        "def generate_vp_dataset(\n",
        "    n=4000,\n",
        "    phi_range=(0.02, 0.35),          # total porosity\n",
        "    depth_range=(0.1, 3.0),          # km\n",
        "    k_compaction=0.2,                # 1/km\n",
        "    noise_std=0.05,                  # km/s\n",
        "):\n",
        "    # Categories\n",
        "    lithologies = ['sandstone', 'limestone', 'shale']\n",
        "    fluids = ['brine', 'gas']\n",
        "\n",
        "    Vm_map = {'sandstone': 5.5, 'limestone': 6.0, 'shale': 4.0}  # km/s\n",
        "    Vf_map = {'brine': 1.5, 'gas': 0.35}                         # km/s\n",
        "\n",
        "    X_list = []\n",
        "    y_list = []\n",
        "\n",
        "    for _ in range(n):\n",
        "        # Sample inputs\n",
        "        phi = np.random.uniform(*phi_range)                   # fraction\n",
        "        depth = np.random.uniform(*depth_range)               # km\n",
        "        lith = random.choice(lithologies)\n",
        "        fluid = random.choice(fluids)\n",
        "\n",
        "        Vm = Vm_map[lith]\n",
        "        Vf = Vf_map[fluid]\n",
        "\n",
        "        # Effective porosity after compaction with depth\n",
        "        phi_eff = phi * np.exp(-k_compaction * depth)\n",
        "        phi_eff = np.clip(phi_eff, 0.0, 0.6)\n",
        "\n",
        "        # Wyllie time-average on slowness\n",
        "        s = (phi_eff / Vf) + ((1.0 - phi_eff) / Vm)  # 1/(km/s)\n",
        "        Vp0 = 1.0 / s  # km/s\n",
        "\n",
        "        # Add a mild depth trend (pressure stiffening)\n",
        "        Vp = Vp0 + 0.15 * depth\n",
        "\n",
        "        # Noise\n",
        "        Vp_noisy = Vp + np.random.normal(0.0, noise_std)\n",
        "\n",
        "        # One-hot encode categories\n",
        "        lith_onehot = [1.0 if lith == name else 0.0 for name in lithologies]\n",
        "        fluid_onehot = [1.0 if fluid == name else 0.0 for name in fluids]\n",
        "\n",
        "        # Feature vector: [phi, depth, lith_onehot(3), fluid_onehot(2)]\n",
        "        X = [phi, depth] + lith_onehot + fluid_onehot\n",
        "        X_list.append(X)\n",
        "        y_list.append([Vp_noisy])\n",
        "\n",
        "    X = np.array(X_list, dtype=np.float32)\n",
        "    y = np.array(y_list, dtype=np.float32)\n",
        "    return X, y\n",
        "\n",
        "X, y = generate_vp_dataset()\n",
        "print(\"X shape:\", X.shape, \" y shape:\", y.shape, \" example:\", X[0], y[0])\n"
      ]
    },
    {
      "cell_type": "markdown",
      "id": "0ff07a80",
      "metadata": {
        "id": "0ff07a80"
      },
      "source": [
        "\n",
        "## 2) Split Into Train / Validation / Test\n"
      ]
    },
    {
      "cell_type": "code",
      "execution_count": null,
      "id": "2c5d8e04",
      "metadata": {
        "colab": {
          "base_uri": "https://localhost:8080/"
        },
        "id": "2c5d8e04",
        "outputId": "86614b2d-9949-45ab-d229-3a1b8331825f"
      },
      "outputs": [
        {
          "output_type": "execute_result",
          "data": {
            "text/plain": [
              "(2800, 600, 600)"
            ]
          },
          "metadata": {},
          "execution_count": 3
        }
      ],
      "source": [
        "\n",
        "dataset = TensorDataset(torch.from_numpy(X), torch.from_numpy(y))\n",
        "n_total = len(dataset)\n",
        "n_train = int(0.7 * n_total)\n",
        "n_val   = int(0.15 * n_total)\n",
        "n_test  = n_total - n_train - n_val\n",
        "train_set, val_set, test_set = random_split(dataset, [n_train, n_val, n_test],\n",
        "                                            generator=torch.Generator().manual_seed(seed))\n",
        "len(train_set), len(val_set), len(test_set)\n"
      ]
    },
    {
      "cell_type": "code",
      "execution_count": null,
      "id": "20454cf2",
      "metadata": {
        "id": "20454cf2"
      },
      "outputs": [],
      "source": [
        "\n",
        "batch_size = 128\n",
        "train_loader = DataLoader(train_set, batch_size=batch_size, shuffle=True)\n",
        "val_loader   = DataLoader(val_set, batch_size=batch_size, shuffle=False)\n",
        "test_loader  = DataLoader(test_set, batch_size=batch_size, shuffle=False)\n"
      ]
    },
    {
      "cell_type": "markdown",
      "id": "f3c919d6",
      "metadata": {
        "id": "f3c919d6"
      },
      "source": [
        "\n",
        "## 3) MLP Regressor (with Activation & Dropout Options)\n"
      ]
    },
    {
      "cell_type": "code",
      "execution_count": null,
      "id": "3b94efcc",
      "metadata": {
        "colab": {
          "base_uri": "https://localhost:8080/"
        },
        "id": "3b94efcc",
        "outputId": "327bcadc-7f0a-4a0b-d56b-ecfb1d18c236"
      },
      "outputs": [
        {
          "output_type": "execute_result",
          "data": {
            "text/plain": [
              "Sequential(\n",
              "  (0): Linear(in_features=7, out_features=128, bias=True)\n",
              "  (1): ReLU()\n",
              "  (2): Dropout(p=0.1, inplace=False)\n",
              "  (3): Linear(in_features=128, out_features=128, bias=True)\n",
              "  (4): ReLU()\n",
              "  (5): Dropout(p=0.1, inplace=False)\n",
              "  (6): Linear(in_features=128, out_features=1, bias=True)\n",
              ")"
            ]
          },
          "metadata": {},
          "execution_count": 5
        }
      ],
      "source": [
        "\n",
        "def make_mlp(in_dim=7, hidden=[128, 128], activation='relu', dropout_p=0.1):\n",
        "    acts = {\n",
        "        'relu': nn.ReLU(),\n",
        "        'tanh': nn.Tanh(),\n",
        "        'sigmoid': nn.Sigmoid(),\n",
        "        'gelu': nn.GELU(),\n",
        "        'leaky_relu': nn.LeakyReLU()\n",
        "    }\n",
        "    act = acts.get(activation, nn.ReLU())\n",
        "\n",
        "    layers = []\n",
        "    prev = in_dim\n",
        "    for h in hidden:\n",
        "        layers += [nn.Linear(prev, h), act]\n",
        "        if dropout_p > 0.0:\n",
        "            layers += [nn.Dropout(dropout_p)]\n",
        "        prev = h\n",
        "    layers += [nn.Linear(prev, 1)]\n",
        "    return nn.Sequential(*layers)\n",
        "\n",
        "model = make_mlp(in_dim=X.shape[1], activation='relu', dropout_p=0.1).to(device)\n",
        "model\n"
      ]
    },
    {
      "cell_type": "markdown",
      "id": "d9af7422",
      "metadata": {
        "id": "d9af7422"
      },
      "source": [
        "\n",
        "## 4) Loss and Optimizer\n",
        "\n",
        "Start with **MSE** and **Adam**. Try **MAE** and **SGD with momentum** to compare. Use **weight decay** for L2 regularization.\n"
      ]
    },
    {
      "cell_type": "code",
      "execution_count": null,
      "id": "595069c5",
      "metadata": {
        "id": "595069c5"
      },
      "outputs": [],
      "source": [
        "\n",
        "criterion = nn.MSELoss()  # try: nn.L1Loss() for MAE\n",
        "optimizer = torch.optim.Adam(model.parameters(), lr=1e-3, weight_decay=1e-4)  # change weight_decay\n"
      ]
    },
    {
      "cell_type": "markdown",
      "id": "ba8dfb8c",
      "metadata": {
        "id": "ba8dfb8c"
      },
      "source": [
        "\n",
        "## 5) Train With Early Stopping (Track Train/Val Loss)\n"
      ]
    },
    {
      "cell_type": "code",
      "execution_count": null,
      "id": "07b4d431",
      "metadata": {
        "colab": {
          "base_uri": "https://localhost:8080/"
        },
        "id": "07b4d431",
        "outputId": "db7d0a39-0cb0-4e5e-e4ad-3aacf00ac556"
      },
      "outputs": [
        {
          "output_type": "stream",
          "name": "stdout",
          "text": [
            "Epoch 001 | train 5.775882 | val 1.301890\n",
            "Epoch 002 | train 1.258626 | val 0.730576\n",
            "Epoch 003 | train 0.655608 | val 0.498818\n",
            "Epoch 004 | train 0.524348 | val 0.442715\n",
            "Epoch 005 | train 0.466848 | val 0.394405\n",
            "Epoch 006 | train 0.419320 | val 0.349885\n",
            "Epoch 007 | train 0.370703 | val 0.289275\n",
            "Epoch 008 | train 0.311215 | val 0.228033\n",
            "Epoch 009 | train 0.253606 | val 0.165112\n",
            "Epoch 010 | train 0.204834 | val 0.116510\n",
            "Epoch 011 | train 0.165966 | val 0.084021\n",
            "Epoch 012 | train 0.147641 | val 0.070007\n",
            "Epoch 013 | train 0.131506 | val 0.055872\n",
            "Epoch 014 | train 0.121167 | val 0.049770\n",
            "Epoch 015 | train 0.116267 | val 0.044434\n",
            "Epoch 016 | train 0.107449 | val 0.042871\n",
            "Epoch 017 | train 0.104843 | val 0.038740\n",
            "Epoch 018 | train 0.098544 | val 0.034825\n",
            "Epoch 019 | train 0.094695 | val 0.033455\n",
            "Epoch 020 | train 0.087859 | val 0.032329\n",
            "Epoch 021 | train 0.091011 | val 0.027993\n",
            "Epoch 022 | train 0.088435 | val 0.028221\n",
            "Epoch 023 | train 0.083350 | val 0.025836\n",
            "Epoch 024 | train 0.078944 | val 0.022704\n",
            "Epoch 025 | train 0.073123 | val 0.025072\n",
            "Epoch 026 | train 0.073205 | val 0.022954\n",
            "Epoch 027 | train 0.071929 | val 0.019252\n",
            "Epoch 028 | train 0.069264 | val 0.017937\n",
            "Epoch 029 | train 0.064113 | val 0.017168\n",
            "Epoch 030 | train 0.066210 | val 0.015907\n",
            "Epoch 031 | train 0.067209 | val 0.015195\n",
            "Epoch 032 | train 0.062386 | val 0.016324\n",
            "Epoch 033 | train 0.061668 | val 0.014225\n",
            "Epoch 034 | train 0.064892 | val 0.014850\n",
            "Epoch 035 | train 0.063704 | val 0.013330\n",
            "Epoch 036 | train 0.058585 | val 0.019833\n",
            "Epoch 037 | train 0.061343 | val 0.013538\n",
            "Epoch 038 | train 0.057290 | val 0.011482\n",
            "Epoch 039 | train 0.057179 | val 0.011561\n",
            "Epoch 040 | train 0.055518 | val 0.013105\n",
            "Epoch 041 | train 0.055593 | val 0.013855\n",
            "Epoch 042 | train 0.054152 | val 0.011507\n",
            "Epoch 043 | train 0.052669 | val 0.010244\n",
            "Epoch 044 | train 0.050374 | val 0.013647\n",
            "Epoch 045 | train 0.051283 | val 0.011276\n",
            "Epoch 046 | train 0.050932 | val 0.009459\n",
            "Epoch 047 | train 0.050906 | val 0.009265\n",
            "Epoch 048 | train 0.054008 | val 0.010391\n",
            "Epoch 049 | train 0.049768 | val 0.010528\n",
            "Epoch 050 | train 0.048755 | val 0.013589\n",
            "Epoch 051 | train 0.049881 | val 0.009507\n",
            "Epoch 052 | train 0.048468 | val 0.007887\n",
            "Epoch 053 | train 0.050724 | val 0.011066\n",
            "Epoch 054 | train 0.052311 | val 0.009064\n",
            "Epoch 055 | train 0.049030 | val 0.008823\n",
            "Epoch 056 | train 0.048451 | val 0.009418\n",
            "Epoch 057 | train 0.051090 | val 0.010117\n",
            "Epoch 058 | train 0.047590 | val 0.007817\n",
            "Epoch 059 | train 0.045507 | val 0.017807\n",
            "Epoch 060 | train 0.047186 | val 0.012216\n",
            "Epoch 061 | train 0.048263 | val 0.007352\n",
            "Epoch 062 | train 0.044105 | val 0.014861\n",
            "Epoch 063 | train 0.047093 | val 0.007090\n",
            "Epoch 064 | train 0.045760 | val 0.007045\n",
            "Epoch 065 | train 0.045535 | val 0.007502\n",
            "Epoch 066 | train 0.046276 | val 0.008211\n",
            "Epoch 067 | train 0.044078 | val 0.006195\n",
            "Epoch 068 | train 0.044150 | val 0.008168\n",
            "Epoch 069 | train 0.042887 | val 0.006311\n",
            "Epoch 070 | train 0.040306 | val 0.007187\n",
            "Epoch 071 | train 0.043875 | val 0.008972\n",
            "Epoch 072 | train 0.042674 | val 0.006634\n",
            "Epoch 073 | train 0.043940 | val 0.006452\n",
            "Epoch 074 | train 0.040616 | val 0.016897\n",
            "Epoch 075 | train 0.041410 | val 0.007747\n",
            "Epoch 076 | train 0.041871 | val 0.006198\n",
            "Epoch 077 | train 0.040681 | val 0.006683\n",
            "Epoch 078 | train 0.041302 | val 0.006205\n",
            "Epoch 079 | train 0.039504 | val 0.008122\n",
            "Epoch 080 | train 0.038600 | val 0.006582\n",
            "Epoch 081 | train 0.039182 | val 0.009256\n",
            "Epoch 082 | train 0.040364 | val 0.006586\n",
            "Epoch 083 | train 0.038167 | val 0.010030\n",
            "Epoch 084 | train 0.040335 | val 0.008274\n",
            "Epoch 085 | train 0.039227 | val 0.006604\n",
            "Epoch 086 | train 0.038262 | val 0.006040\n",
            "Epoch 087 | train 0.037960 | val 0.005487\n",
            "Epoch 088 | train 0.038929 | val 0.005460\n",
            "Epoch 089 | train 0.039789 | val 0.005650\n",
            "Epoch 090 | train 0.038841 | val 0.005929\n",
            "Epoch 091 | train 0.038271 | val 0.006385\n",
            "Epoch 092 | train 0.038362 | val 0.007026\n",
            "Epoch 093 | train 0.038626 | val 0.005008\n",
            "Epoch 094 | train 0.037243 | val 0.005494\n",
            "Epoch 095 | train 0.036301 | val 0.009208\n",
            "Epoch 096 | train 0.037325 | val 0.006766\n",
            "Epoch 097 | train 0.036137 | val 0.009702\n",
            "Epoch 098 | train 0.034022 | val 0.006020\n",
            "Epoch 099 | train 0.035805 | val 0.008545\n",
            "Epoch 100 | train 0.036795 | val 0.005661\n",
            "Epoch 101 | train 0.036009 | val 0.005526\n",
            "Epoch 102 | train 0.036065 | val 0.008420\n",
            "Epoch 103 | train 0.036114 | val 0.005393\n",
            "Epoch 104 | train 0.037033 | val 0.010499\n",
            "Epoch 105 | train 0.035153 | val 0.005765\n",
            "Epoch 106 | train 0.034110 | val 0.005563\n",
            "Epoch 107 | train 0.034350 | val 0.004758\n",
            "Epoch 108 | train 0.034410 | val 0.005504\n",
            "Epoch 109 | train 0.034167 | val 0.004582\n",
            "Epoch 110 | train 0.036409 | val 0.012276\n",
            "Epoch 111 | train 0.035058 | val 0.004897\n",
            "Epoch 112 | train 0.033149 | val 0.005244\n",
            "Epoch 113 | train 0.033375 | val 0.007336\n",
            "Epoch 114 | train 0.033651 | val 0.005033\n",
            "Epoch 115 | train 0.033588 | val 0.009040\n",
            "Epoch 116 | train 0.035033 | val 0.005084\n",
            "Epoch 117 | train 0.034642 | val 0.005621\n",
            "Epoch 118 | train 0.034466 | val 0.005509\n",
            "Epoch 119 | train 0.034055 | val 0.005589\n",
            "Epoch 120 | train 0.033576 | val 0.006162\n",
            "Epoch 121 | train 0.030822 | val 0.009338\n",
            "Epoch 122 | train 0.033915 | val 0.004547\n",
            "Epoch 123 | train 0.033394 | val 0.015795\n",
            "Epoch 124 | train 0.032545 | val 0.008328\n",
            "Epoch 125 | train 0.030501 | val 0.004313\n",
            "Epoch 126 | train 0.032404 | val 0.006405\n",
            "Epoch 127 | train 0.031245 | val 0.004565\n",
            "Epoch 128 | train 0.031710 | val 0.006664\n",
            "Epoch 129 | train 0.032979 | val 0.005281\n",
            "Epoch 130 | train 0.032563 | val 0.004626\n",
            "Epoch 131 | train 0.031592 | val 0.004552\n",
            "Epoch 132 | train 0.030333 | val 0.004902\n",
            "Epoch 133 | train 0.031202 | val 0.004099\n",
            "Epoch 134 | train 0.031983 | val 0.004927\n",
            "Epoch 135 | train 0.032723 | val 0.014206\n",
            "Epoch 136 | train 0.030833 | val 0.005720\n",
            "Epoch 137 | train 0.030351 | val 0.004588\n",
            "Epoch 138 | train 0.031945 | val 0.004692\n",
            "Epoch 139 | train 0.029380 | val 0.004414\n",
            "Epoch 140 | train 0.032429 | val 0.004468\n",
            "Epoch 141 | train 0.032695 | val 0.005662\n",
            "Epoch 142 | train 0.029178 | val 0.004228\n",
            "Epoch 143 | train 0.032218 | val 0.012692\n",
            "Epoch 144 | train 0.029719 | val 0.005929\n",
            "Epoch 145 | train 0.028359 | val 0.004192\n",
            "Epoch 146 | train 0.030111 | val 0.005132\n",
            "Epoch 147 | train 0.029084 | val 0.006495\n",
            "Epoch 148 | train 0.028926 | val 0.004327\n",
            "Epoch 149 | train 0.029729 | val 0.004295\n",
            "Epoch 150 | train 0.030204 | val 0.004167\n",
            "Epoch 151 | train 0.030026 | val 0.005337\n",
            "Epoch 152 | train 0.031000 | val 0.005803\n",
            "Epoch 153 | train 0.029631 | val 0.004622\n",
            "Epoch 154 | train 0.028262 | val 0.004331\n",
            "Epoch 155 | train 0.027832 | val 0.004372\n",
            "Epoch 156 | train 0.028432 | val 0.004622\n",
            "Epoch 157 | train 0.027625 | val 0.005836\n",
            "Epoch 158 | train 0.031148 | val 0.008435\n",
            "Early stopping!\n"
          ]
        }
      ],
      "source": [
        "\n",
        "def train_model(model, optimizer, criterion, train_loader, val_loader, epochs=250, patience=20):\n",
        "    history = {'train': [], 'val': []}\n",
        "    best_val = float('inf')\n",
        "    best_state = None\n",
        "    patience_left = patience\n",
        "\n",
        "    for epoch in range(1, epochs+1):\n",
        "        model.train()\n",
        "        tl = []\n",
        "        for xb, yb in train_loader:\n",
        "            xb, yb = xb.to(device), yb.to(device)\n",
        "            optimizer.zero_grad()\n",
        "            preds = model(xb)\n",
        "            loss = criterion(preds, yb)\n",
        "            loss.backward()\n",
        "            optimizer.step()\n",
        "            tl.append(loss.item())\n",
        "\n",
        "        model.eval()\n",
        "        vl = []\n",
        "        with torch.no_grad():\n",
        "            for xb, yb in val_loader:\n",
        "                xb, yb = xb.to(device), yb.to(device)\n",
        "                preds = model(xb)\n",
        "                loss = criterion(preds, yb)\n",
        "                vl.append(loss.item())\n",
        "\n",
        "        train_loss = float(np.mean(tl))\n",
        "        val_loss = float(np.mean(vl))\n",
        "        history['train'].append(train_loss)\n",
        "        history['val'].append(val_loss)\n",
        "        print(f\"Epoch {epoch:03d} | train {train_loss:.6f} | val {val_loss:.6f}\")\n",
        "\n",
        "        if val_loss < best_val - 1e-6:\n",
        "            best_val = val_loss\n",
        "            best_state = {k: v.cpu().clone() for k, v in model.state_dict().items()}\n",
        "            patience_left = patience\n",
        "        else:\n",
        "            patience_left -= 1\n",
        "            if patience_left <= 0:\n",
        "                print(\"Early stopping!\")\n",
        "                break\n",
        "\n",
        "    if best_state is not None:\n",
        "        model.load_state_dict({k: v.to(device) for k, v in best_state.items()})\n",
        "    return history\n",
        "\n",
        "history = train_model(model, optimizer, criterion, train_loader, val_loader, epochs=300, patience=25)\n"
      ]
    },
    {
      "cell_type": "markdown",
      "id": "192375dd",
      "metadata": {
        "id": "192375dd"
      },
      "source": [
        "\n",
        "## 6) Training vs Validation Loss\n"
      ]
    },
    {
      "cell_type": "code",
      "execution_count": null,
      "id": "00911c08",
      "metadata": {
        "colab": {
          "base_uri": "https://localhost:8080/",
          "height": 407
        },
        "id": "00911c08",
        "outputId": "a6d44487-7a1e-4579-e720-42f17c862788"
      },
      "outputs": [
        {
          "output_type": "display_data",
          "data": {
            "text/plain": [
              "<Figure size 600x400 with 1 Axes>"
            ],
            "image/png": "[encoded data removed]"
          },
          "metadata": {}
        }
      ],
      "source": [
        "\n",
        "plt.figure(figsize=(6,4))\n",
        "plt.plot(history['train'], label='Train Loss')\n",
        "plt.plot(history['val'], label='Validation Loss')\n",
        "plt.xlabel('Epoch')\n",
        "plt.ylabel('Loss')\n",
        "plt.title('Training vs Validation Loss (Vp Regression)')\n",
        "plt.legend()\n",
        "plt.tight_layout()\n",
        "plt.show()\n"
      ]
    },
    {
      "cell_type": "markdown",
      "id": "73f2de5a",
      "metadata": {
        "id": "73f2de5a"
      },
      "source": [
        "\n",
        "## 7) Test Evaluation and Prediction Quality\n"
      ]
    },
    {
      "cell_type": "code",
      "execution_count": null,
      "id": "46f0d9a7",
      "metadata": {
        "colab": {
          "base_uri": "https://localhost:8080/",
          "height": 524
        },
        "id": "46f0d9a7",
        "outputId": "df32d61c-1d14-4c4c-9221-670db3f94625"
      },
      "outputs": [
        {
          "output_type": "stream",
          "name": "stdout",
          "text": [
            "Test MSE: 0.004208 | Test MAE: 0.049941 | Test R^2: 0.9974\n"
          ]
        },
        {
          "output_type": "display_data",
          "data": {
            "text/plain": [
              "<Figure size 500x500 with 1 Axes>"
            ],
            "image/png": "[encoded data removed]"
          },
          "metadata": {}
        }
      ],
      "source": [
        "\n",
        "def evaluate(model, loader):\n",
        "    model.eval()\n",
        "    y_true, y_pred = [], []\n",
        "    with torch.no_grad():\n",
        "        for xb, yb in loader:\n",
        "            xb = xb.to(device)\n",
        "            preds = model(xb).cpu().numpy()\n",
        "            y_true.append(yb.numpy())\n",
        "            y_pred.append(preds)\n",
        "    y_true = np.vstack(y_true)\n",
        "    y_pred = np.vstack(y_pred)\n",
        "    mse = np.mean((y_true - y_pred)**2)\n",
        "    mae = np.mean(np.abs(y_true - y_pred))\n",
        "    ss_res = np.sum((y_true - y_pred)**2)\n",
        "    ss_tot = np.sum((y_true - np.mean(y_true))**2)\n",
        "    r2 = 1 - ss_res/ss_tot\n",
        "    return mse, mae, r2\n",
        "\n",
        "test_mse, test_mae, test_r2 = evaluate(model, test_loader)\n",
        "print(f\"Test MSE: {test_mse:.6f} | Test MAE: {test_mae:.6f} | Test R^2: {test_r2:.4f}\")\n",
        "\n",
        "# Scatter plot\n",
        "X_te, y_te = [], []\n",
        "with torch.no_grad():\n",
        "    for xb, yb in test_loader:\n",
        "        X_te.append(xb.numpy()); y_te.append(yb.numpy())\n",
        "X_te = np.vstack(X_te); y_te = np.vstack(y_te)\n",
        "\n",
        "with torch.no_grad():\n",
        "    preds = model(torch.from_numpy(X_te).to(device)).cpu().numpy()\n",
        "\n",
        "plt.figure(figsize=(5,5))\n",
        "plt.scatter(y_te, preds, s=8)\n",
        "lims = [min(y_te.min(), preds.min()), max(y_te.max(), preds.max())]\n",
        "plt.plot(lims, lims)\n",
        "plt.xlabel('True Vp (km/s)')\n",
        "plt.ylabel('Predicted Vp (km/s)')\n",
        "plt.title('Prediction vs Truth (Test)')\n",
        "plt.tight_layout()\n",
        "plt.show()\n"
      ]
    },
    {
      "cell_type": "markdown",
      "id": "ae583081",
      "metadata": {
        "id": "ae583081"
      },
      "source": [
        "\n",
        "## 8) Exercises (Try These!)\n",
        "\n",
        "1. **Activation Functions:** Try `activation='tanh'` or `leaky_relu` in `make_mlp`. Observe convergence and test $R^2$.\n",
        "2. **Loss Functions:** Replace `nn.MSELoss()` with `nn.L1Loss()`. Which gives better robustness?\n",
        "3. **Weight Decay (L2):** Increase `weight_decay` to `1e-3` or `5e-4`. Does validation loss improve?\n",
        "4. **Dropout:** Try `dropout_p=0.3` or `0.5`. Is test error lower or higher?\n",
        "5. **Optimizer:** Switch to `torch.optim.SGD(..., lr=1e-2, momentum=0.9)` and compare curves.\n",
        "6. **Capacity:** Change `hidden=[64,64]` and `hidden=[256,256,256]`. Identify under/overfitting.\n",
        "7. **Generalization Test:** Train on depths up to 1.5 km only; test on 1.5–3.0 km. How well does the model extrapolate?\n",
        "8. **Inverse Task (Optional):** Predict porosity from (Vp, depth, lithology, fluid) by swapping inputs/targets and regenerating data.\n"
      ]
    },
    {
      "cell_type": "code",
      "source": [],
      "metadata": {
        "id": "uvTygolRTXQx"
      },
      "id": "uvTygolRTXQx",
      "execution_count": null,
      "outputs": []
    }
  ],
  "metadata": {
    "colab": {
      "provenance": [],
      "gpuType": "T4",
      "include_colab_link": true
    },
    "language_info": {
      "name": "python"
    },
    "kernelspec": {
      "name": "python3",
      "display_name": "Python 3"
    },
    "accelerator": "GPU"
  },
  "nbformat": 4,
  "nbformat_minor": 5
}